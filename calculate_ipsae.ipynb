{
 "cells": [
  {
   "cell_type": "code",
   "execution_count": 1,
   "metadata": {
    "metadata": {}
   },
   "outputs": [],
   "source": [
    "import pandas as pd\n",
    "from src.ipsae import return_ipsae\n",
    "from Bio import SeqIO\n",
    "import os\n",
    "import json"
   ]
  },
  {
   "cell_type": "code",
   "execution_count": 2,
   "metadata": {
    "metadata": {}
   },
   "outputs": [],
   "source": [
    "# Load in the data provided by Adaptyv Bio containing the sequences, binding detected, and Kds.\n",
    "results_df = pd.read_csv(\"data/result_summary.csv\")\n",
    "# Also load in the AlphaPulldown sequences\n",
    "fasta_file = \"data/all_egfr_seqs.fasta\""
   ]
  },
  {
   "cell_type": "code",
   "execution_count": 3,
   "metadata": {
    "metadata": {}
   },
   "outputs": [],
   "source": [
    "# The AlphaPulldown directories have a unique code for each of the sequences rather than the submission name, so we'll map the sequences back to the all_egfr_seqs.fasta file, to get the code, so we can access the pae and pdb files.\n",
    "# I'll create a dictionary to store these mappings.\n",
    "seq2id = {}\n",
    "fasta_data = SeqIO.parse(open(fasta_file), 'fasta')\n",
    "for fasta in fasta_data:\n",
    "    name, sequence = fasta.id, str(fasta.seq)\n",
    "    # here the name is the unique\n",
    "    seq2id[sequence] = name"
   ]
  },
  {
   "cell_type": "code",
   "execution_count": null,
   "metadata": {
    "metadata": {}
   },
   "outputs": [],
   "source": [
    "# We are going make a function that takes in the amino acid sequence, and returns the file path to the pae and pdb files from the Alphapulldown directories\n",
    "def get_pae_file_path(sequence):\n",
    "    id = seq2id[sequence]\n",
    "    apd_dir = os.path.join(\"data/egfr_adaptyv_paper_alphapulldown_paes_pdbs\", f\"6ARU_1_Chain_A_and_{id}\")\n",
    "\n",
    "    # Check if the directory exists (most of jvogt's sequences didn't seem to fold)\n",
    "    if not os.path.exists(apd_dir):\n",
    "        print(f\"apd doesnt exist for {id}\")\n",
    "        return -1\n",
    "\n",
    "    ranking_debug_path = os.path.join(apd_dir, 'ranking_debug.json')\n",
    "\n",
    "    # Check if ranking_debug.json exists. This is to see which PAE file corresponds to the best model.\n",
    "    if not os.path.exists(ranking_debug_path):\n",
    "        print(f\"ranking doesnt exist for {id}\")\n",
    "        return -1\n",
    "\n",
    "    with open(ranking_debug_path, 'r') as file:\n",
    "        json_data = json.load(file)\n",
    "        # Get the top-ranked model\n",
    "        top_model = json_data['order'][0]  \n",
    "\n",
    "    # Construct the PAE file path\n",
    "    pae_file_path = os.path.join(apd_dir, f\"pae_{top_model}.json\")\n",
    "\n",
    "    # Check if the PAE file exists\n",
    "    return pae_file_path if os.path.exists(pae_file_path) else -1\n",
    "\n",
    "def get_pdb_file_path(sequence):\n",
    "    id = seq2id[sequence]\n",
    "    apd_dir = os.path.join(\"data/egfr_adaptyv_paper_alphapulldown_paes_pdbs\", f\"6ARU_1_Chain_A_and_{id}\")\n",
    "    if not os.path.exists(apd_dir):\n",
    "        return -1\n",
    "    \n",
    "    # I am assuming that ranked_0 is the \"best\" structure.\n",
    "    pdb_file_path = os.path.join(apd_dir, \"ranked_0.pdb\")\n",
    "    if os.path.exists(pdb_file_path):\n",
    "        return pdb_file_path \n",
    "    else:\n",
    "        print(f\"pdb doesnt exist for {id}\") \n",
    "        return -1"
   ]
  },
  {
   "cell_type": "code",
   "execution_count": 5,
   "metadata": {
    "metadata": {}
   },
   "outputs": [
    {
     "name": "stdout",
     "output_type": "stream",
     "text": [
      "apd doesnt exist for b1e10681e9b3e5a1b7ec66ca7ba604aa\n",
      "apd doesnt exist for e0243e84c757f833ec3790cea7ab8b1a\n",
      "apd doesnt exist for 2e41a6ed50ebc6dd0864b17063f460ba\n",
      "apd doesnt exist for 1b366cc4a45cefc2e55c908b31f255d4\n",
      "apd doesnt exist for 22aa87100f1a31cc684c6a805ec90142\n",
      "apd doesnt exist for 380f3646cfe1f482b8161f4cee30e86a\n",
      "apd doesnt exist for 6fcb382d2b9294dd5cd2b92427aa4fe2\n"
     ]
    }
   ],
   "source": [
    "# These are the default cutoffs.\n",
    "pae_cutoff = 10\n",
    "dist_cutoff = 10\n",
    "\n",
    "# Now we add a new column for ipsae to the dataframe, and save as a csv file for further analysis.\n",
    "results_df['ipsae'] = results_df['sequence'].apply(lambda seq: return_ipsae(get_pae_file_path(seq), get_pdb_file_path(seq), pae_cutoff, dist_cutoff))\n",
    "results_df.to_csv(\"results_with_ipsae.csv\")\n"
   ]
  }
 ],
 "metadata": {
  "kernelspec": {
   "display_name": "cuda121",
   "language": "python",
   "name": "python3"
  },
  "language_info": {
   "codemirror_mode": {
    "name": "ipython",
    "version": 3
   },
   "file_extension": ".py",
   "mimetype": "text/x-python",
   "name": "python",
   "nbconvert_exporter": "python",
   "pygments_lexer": "ipython3",
   "version": "3.10.12"
  }
 },
 "nbformat": 4,
 "nbformat_minor": 2
}
